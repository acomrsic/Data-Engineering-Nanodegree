{
 "cells": [
  {
   "cell_type": "markdown",
   "metadata": {},
   "source": [
    "# Part I. ETL Pipeline for Pre-Processing the Files"
   ]
  },
  {
   "cell_type": "markdown",
   "metadata": {},
   "source": [
    "## PLEASE RUN THE FOLLOWING CODE FOR PRE-PROCESSING THE FILES"
   ]
  },
  {
   "cell_type": "markdown",
   "metadata": {},
   "source": [
    "#### Import Python packages "
   ]
  },
  {
   "cell_type": "code",
   "execution_count": null,
   "metadata": {},
   "outputs": [],
   "source": [
    "# Import Python packages \n",
    "import pandas as pd\n",
    "import cassandra\n",
    "import re\n",
    "import os\n",
    "import glob\n",
    "import numpy as np\n",
    "import json\n",
    "import csv"
   ]
  },
  {
   "cell_type": "markdown",
   "metadata": {},
   "source": [
    "#### Creating list of filepaths to process original event csv data files"
   ]
  },
  {
   "cell_type": "code",
   "execution_count": null,
   "metadata": {},
   "outputs": [],
   "source": [
    "# checking your current working directory\n",
    "print(os.getcwd())\n",
    "\n",
    "# Get your current folder and subfolder event data\n",
    "filepath = os.getcwd() + '/event_data'\n",
    "\n",
    "# Create a for loop to create a list of files and collect each filepath\n",
    "for root, dirs, files in os.walk(filepath):\n",
    "    \n",
    "# join the file path and roots with the subdirectories using glob\n",
    "    file_path_list = glob.glob(os.path.join(root,'*'))"
   ]
  },
  {
   "cell_type": "markdown",
   "metadata": {},
   "source": [
    "#### Processing the files to create the data file csv that will be used for Apache Casssandra tables"
   ]
  },
  {
   "cell_type": "code",
   "execution_count": null,
   "metadata": {},
   "outputs": [],
   "source": [
    "# initiating an empty list of rows that will be generated from each file\n",
    "full_data_rows_list = [] \n",
    "\n",
    "# for every filepath in the file path list \n",
    "for f in file_path_list:\n",
    "# reading csv file \n",
    "    with open(f, 'r', encoding = 'utf8', newline='') as csvfile: \n",
    "        # creating a csv reader object \n",
    "        csvreader = csv.reader(csvfile) \n",
    "        next(csvreader)\n",
    "        \n",
    "        \n",
    " # extracting each data row one by one and append it        \n",
    "        for line in csvreader:\n",
    "            #print(line)\n",
    "            full_data_rows_list.append(line) \n",
    "\n",
    "# uncomment the code below if you would like to get total number of rows \n",
    "#print(len(full_data_rows_list))\n",
    "# uncomment the code below if you would like to check to see what the list of event data rows will look like\n",
    "#print(full_data_rows_list)\n",
    "\n",
    "# creating a smaller event data csv file called event_datafile_full csv that will be used to insert data into the \\\n",
    "# Apache Cassandra tables\n",
    "csv.register_dialect('myDialect', quoting=csv.QUOTE_ALL, skipinitialspace=True)\n",
    "with open('event_datafile_new.csv', 'w', encoding = 'utf8', newline='') as f:\n",
    "    writer = csv.writer(f, dialect='myDialect')\n",
    "    writer.writerow(['artist_name','user_name','gender','item_in_session','user_last_name','length',\\\n",
    "                'level','location','session_id','song','user_id'])\n",
    "    for row in full_data_rows_list:\n",
    "        if (row[0] == ''):\n",
    "            continue\n",
    "        writer.writerow((row[0], row[2], row[3], row[4], row[5], row[6], row[7], row[8], row[12], row[13], row[16]))"
   ]
  },
  {
   "cell_type": "code",
   "execution_count": null,
   "metadata": {},
   "outputs": [],
   "source": [
    "# check the number of rows in your csv file\n",
    "with open('event_datafile_new.csv', 'r', encoding = 'utf8') as f:\n",
    "    print(sum(1 for line in f))"
   ]
  },
  {
   "cell_type": "markdown",
   "metadata": {},
   "source": [
    "# Part II. Complete the Apache Cassandra coding portion of your project. \n",
    "\n",
    "## Now you are ready to work with the CSV file titled <font color=red>event_datafile_new.csv</font>, located within the Workspace directory.  The event_datafile_new.csv contains the following columns: \n",
    "- artist \n",
    "- firstName of user\n",
    "- gender of user\n",
    "- item number in session\n",
    "- last name of user\n",
    "- length of the song\n",
    "- level (paid or free song)\n",
    "- location of the user\n",
    "- sessionId\n",
    "- song title\n",
    "- userId\n",
    "\n",
    "The image below is a screenshot of what the denormalized data should appear like in the <font color=red>**event_datafile_new.csv**</font> after the code above is run:<br>\n",
    "\n",
    "<img src=\"images/image_event_datafile_new.jpg\">"
   ]
  },
  {
   "cell_type": "markdown",
   "metadata": {},
   "source": [
    "## Begin writing your Apache Cassandra code in the cells below"
   ]
  },
  {
   "cell_type": "markdown",
   "metadata": {},
   "source": [
    "#### Creating a Cluster"
   ]
  },
  {
   "cell_type": "code",
   "execution_count": null,
   "metadata": {},
   "outputs": [],
   "source": [
    "# This should make a connection to a Cassandra instance your local machine \n",
    "# (127.0.0.1)\n",
    "\n",
    "from cassandra.cluster import Cluster\n",
    "cluster = Cluster()\n",
    "\n",
    "# To establish connection and begin executing queries, need a session\n",
    "session = cluster.connect()"
   ]
  },
  {
   "cell_type": "markdown",
   "metadata": {},
   "source": [
    "#### Create Keyspace"
   ]
  },
  {
   "cell_type": "code",
   "execution_count": null,
   "metadata": {},
   "outputs": [],
   "source": [
    "# create keyspace if not exists\n",
    "create_keyspace_command = \"\"\"CREATE KEYSPACE IF NOT EXISTS sparkify\n",
    "                             WITH REPLICATION = { 'class' : 'SimpleStrategy', 'replication_factor' : 1 }\"\"\"\n",
    "\n",
    "try:\n",
    "    session.execute(create_keyspace_command)\n",
    "except Exception as e:\n",
    "    print(e)"
   ]
  },
  {
   "cell_type": "markdown",
   "metadata": {},
   "source": [
    "#### Set Keyspace"
   ]
  },
  {
   "cell_type": "code",
   "execution_count": null,
   "metadata": {},
   "outputs": [],
   "source": [
    "# Set KEYSPACE to the keyspace specified above\n",
    "set_keyspace_command = \"USE sparkify\"\n",
    "\n",
    "try:\n",
    "    session.execute(set_keyspace_command)\n",
    "except Exception as e:\n",
    "    print(e)"
   ]
  },
  {
   "cell_type": "markdown",
   "metadata": {},
   "source": [
    "### Now we need to create tables to run the following queries. Remember, with Apache Cassandra you model the database tables on the queries you want to run."
   ]
  },
  {
   "cell_type": "markdown",
   "metadata": {},
   "source": [
    "## Create queries to ask the following three questions of the data\n",
    "\n",
    "### 1. Give me the artist, song title and song's length in the music app history that was heard during  sessionId = 338, and itemInSession  = 4\n",
    "\n",
    "\n",
    "### 2. Give me only the following: name of artist, song (sorted by itemInSession) and user (first and last name) for userid = 10, sessionid = 182\n",
    "    \n",
    "\n",
    "### 3. Give me every user name (first and last) in my music app history who listened to the song 'All Hands Against His Own'\n",
    "\n",
    "\n"
   ]
  },
  {
   "cell_type": "markdown",
   "metadata": {},
   "source": [
    "-----------"
   ]
  },
  {
   "cell_type": "markdown",
   "metadata": {},
   "source": [
    "## 1st Query"
   ]
  },
  {
   "cell_type": "markdown",
   "metadata": {},
   "source": [
    "### Give me the artist, song title and song's length in the music app history that was heard during sessionId = 338, and itemInSession = 4\n",
    "\n",
    "We need to select the artist name, song title and song length from song_data_log table, and filter the data by session_id and session_item_number. During the execution our query will looks like:: \n",
    "<code>SELECT artist, song_title, song_length FROM session_songs WHERE session_id = 338 AND session_item_number = 4</code>. \n",
    "Next steps will describe how to do it: \n",
    "* Create table song_data_log if not exists with necessary columns for query.\n",
    "* Our PRIMARY KEY is composed by session_id (partition key), session_item_number (clustering key) so that we can filter by this attributes later on.\n",
    "* Load csv file event_datafile_new.csv and insert the data into table song_data_log.\n",
    "* Do a SELECT to verify that the data have been inserted into each table"
   ]
  },
  {
   "cell_type": "code",
   "execution_count": null,
   "metadata": {},
   "outputs": [],
   "source": [
    "## Create table song_data_log if not exists with necessary columns\n",
    "create_statement =  \"\"\"CREATE TABLE IF NOT EXISTS song_data_log (session_id INT,\n",
    "        session_item_number INT,\n",
    "        artist_name TEXT,\n",
    "        song_title TEXT,\n",
    "        song_length DOUBLE,\n",
    "        PRIMARY KEY ((session_id, session_item_number)))\"\"\"\n",
    "session.execute(create_statement)"
   ]
  },
  {
   "cell_type": "code",
   "execution_count": null,
   "metadata": {},
   "outputs": [],
   "source": [
    "# Load CSV file data into the table!\n",
    "file = 'event_datafile_new.csv'\n",
    "\n",
    "with open(file, encoding = 'utf8') as f:\n",
    "    csvreader = csv.reader(f)\n",
    "    next(csvreader) # skip header\n",
    "    for line in csvreader:     \n",
    "        query = \"\"\"INSERT INTO song_data_log (session_id, session_item_number, artist_name, song_title, song_length) \"\"\"\n",
    "        query = query + \"VALUES  (%s, %s, %s, %s, %s)\"\n",
    "        session.execute(query, (int(line[8]), int(line[3]), line[0], line[9], float(line[5])))"
   ]
  },
  {
   "cell_type": "code",
   "execution_count": null,
   "metadata": {
    "scrolled": true
   },
   "outputs": [],
   "source": [
    "# SELECT to verify that the data have been inserted into each table\n",
    "select_statement = \"SELECT artist_name, song_title, song_length FROM song_data_log WHERE session_id = %s AND session_item_number =  %s\"\n",
    "\n",
    "result_set = session.execute(select_statement, (338, 4))\n",
    "\n",
    "for row in result_set:\n",
    "    print (row)"
   ]
  },
  {
   "cell_type": "markdown",
   "metadata": {},
   "source": [
    "--------------"
   ]
  },
  {
   "cell_type": "markdown",
   "metadata": {},
   "source": [
    "## 2nd Query"
   ]
  },
  {
   "cell_type": "markdown",
   "metadata": {},
   "source": [
    "### 2. Give me only the following: name of artist, song (sorted by itemInSession) and user (first and last name) for userid = 10, sessionid = 182\n",
    "\n",
    "We need to select the artist name, song title and song length from table song_user_data, and filter the data by user_id and session_item_number. During the execution our query will looks like: <code> SELECT artist_name, song_title, user_first_name, user_last_name FROM song_user_data WHERE user_id = 10 AND session_id = 182 </code>. Next steps will describe how to do it: \n",
    "* Create table song_data_log if not exists with necessary columns for query.\n",
    "* Our PRIMARY KEY will consist of composite partition key user_id, session_id. Why, if we only put user_id as partition key, session_id which belongs to the same user will be put into different nodes. That will cause preformance issue with large volume of data.\n",
    "* Our clustering key will be session_item_number so that our results are order by it.\n",
    "* Load csv file event_datafile_new.csv and insert the data into table song_user_data.\n",
    "* Do a SELECT to verify that the data have been inserted into each table"
   ]
  },
  {
   "cell_type": "code",
   "execution_count": null,
   "metadata": {},
   "outputs": [],
   "source": [
    "## Create table song_user_data if not exists with necessary columns\n",
    "create_statement =  \"\"\"CREATE TABLE IF NOT EXISTS song_user_data (user_id INT,\n",
    "        session_id INT,\n",
    "        session_item_number INT,\n",
    "        artist_name TEXT,\n",
    "        song_title TEXT,\n",
    "        user_first_name TEXT,\n",
    "        user_last_name TEXT,\n",
    "        PRIMARY KEY ((user_id, session_id), session_item_number))\"\"\"\n",
    "session.execute(create_statement)         "
   ]
  },
  {
   "cell_type": "code",
   "execution_count": null,
   "metadata": {},
   "outputs": [],
   "source": [
    "# Load CSV file data into the table!\n",
    "with open(file, encoding = 'utf8') as f:\n",
    "    csvreader = csv.reader(f)\n",
    "    next(csvreader) # skip header\n",
    "    for line in csvreader:        \n",
    "        query = \"\"\"INSERT INTO song_user_data (user_id, session_id, session_item_number, artist_name, song_title, user_first_name, user_last_name ) \"\"\"\n",
    "        query = query + \" VALUES  (%s, %s, %s, %s, %s, %s, %s)\"\n",
    "        session.execute(query, (int(line[10]), int(line[8]), int(line[3]), line[0], line[9],line[1], line[4]))      "
   ]
  },
  {
   "cell_type": "code",
   "execution_count": null,
   "metadata": {},
   "outputs": [],
   "source": [
    "# SELECT to verify that the data have been inserted into each table\n",
    "select_statement = \"SELECT artist_name, song_title, user_first_name, user_last_name FROM song_user_data WHERE user_id = %s AND session_id = %s\"\n",
    "\n",
    "result_set = session.execute(select_statement, (10, 182))\n",
    "\n",
    "for row in result_set:\n",
    "    print (row)    "
   ]
  },
  {
   "cell_type": "markdown",
   "metadata": {},
   "source": [
    "------------------"
   ]
  },
  {
   "cell_type": "markdown",
   "metadata": {},
   "source": [
    "## 3rd Query"
   ]
  },
  {
   "cell_type": "markdown",
   "metadata": {},
   "source": [
    "### 3. Give me every user name (first and last) in my music app history who listened to the song 'All Hands Against His Own'\n",
    "\n",
    "We need to select the user first name and last name from table user_data_song_listened, and filter the data by song_title. During the execution our query will looks like: <code> SELECT user_first_name, user_last_name FROM user_data_song_listened WHERE song_title = 'All Hands Against His Own' </code>. Next steps will describe how to do it:\n",
    "\n",
    "* Create table user_data_song_listened if not exists with necessary columns for query.\n",
    "* Our PRIMARY KEY will consist of partition key song_title and clustering key user_id , which uniquely identifies our rows.\n",
    "* Load csv file event_datafile_new.csv and insert the data into table song_user_data.\n",
    "* Do a SELECT to verify that the data have been inserted into each table"
   ]
  },
  {
   "cell_type": "code",
   "execution_count": null,
   "metadata": {},
   "outputs": [],
   "source": [
    "## Create table song_user_data if not exists with necessary columns\n",
    "create_statement =  \"\"\"CREATE TABLE IF NOT EXISTS user_data_song_listened (song_title TEXT, user_id INT,\n",
    "        user_first_name TEXT,\n",
    "        user_last_name TEXT,\n",
    "        PRIMARY KEY ((song_title), user_id))\"\"\"\n",
    "session.execute(create_statement)         "
   ]
  },
  {
   "cell_type": "code",
   "execution_count": null,
   "metadata": {},
   "outputs": [],
   "source": [
    "# Load CSV file data into the table!\n",
    "with open(file, encoding = 'utf8') as f:\n",
    "    csvreader = csv.reader(f)\n",
    "    next(csvreader) # skip header\n",
    "    for line in csvreader:   \n",
    "        query = \"\"\"INSERT INTO user_data_song_listened (song_title, user_id, user_first_name, user_last_name) \"\"\"\n",
    "        query = query + \" VALUES  (%s, %s, %s, %s)\"\n",
    "        song_title, user_id, user_first_name, user_last_name = line[9], int(line[10]), line[1], line[4]\n",
    "        session.execute(query, (song_title, user_id, user_first_name, user_last_name))"
   ]
  },
  {
   "cell_type": "code",
   "execution_count": null,
   "metadata": {},
   "outputs": [],
   "source": [
    "# SELECT to verify that the data have been inserted into each table\n",
    "select_statement = \"SELECT user_first_name, user_last_name FROM user_data_song_listened WHERE song_title = %s\"\n",
    "\n",
    "result_set = session.execute(select_statement, ('All Hands Against His Own', ))\n",
    "\n",
    "for row in result_set:\n",
    "    print (row)     "
   ]
  },
  {
   "cell_type": "markdown",
   "metadata": {},
   "source": [
    "-----------"
   ]
  },
  {
   "cell_type": "markdown",
   "metadata": {},
   "source": [
    "### Drop the tables before closing out the sessions"
   ]
  },
  {
   "cell_type": "code",
   "execution_count": null,
   "metadata": {},
   "outputs": [],
   "source": [
    "song_data_log =  \"DROP TABLE song_data_log\"\n",
    "song_user_data = \"DROP TABLE song_user_data\"\n",
    "user_data_by_song_title = \"DROP TABLE user_data_song_listened\"\n",
    "\n",
    "session.execute(song_data_log)\n",
    "session.execute(song_user_data)\n",
    "session.execute(user_data_by_song_title)"
   ]
  },
  {
   "cell_type": "markdown",
   "metadata": {},
   "source": [
    "### Close the session and cluster connection¶"
   ]
  },
  {
   "cell_type": "code",
   "execution_count": null,
   "metadata": {},
   "outputs": [],
   "source": [
    "session.shutdown()\n",
    "cluster.shutdown()"
   ]
  }
 ],
 "metadata": {
  "kernelspec": {
   "display_name": "Python 3",
   "language": "python",
   "name": "python3"
  },
  "language_info": {
   "codemirror_mode": {
    "name": "ipython",
    "version": 3
   },
   "file_extension": ".py",
   "mimetype": "text/x-python",
   "name": "python",
   "nbconvert_exporter": "python",
   "pygments_lexer": "ipython3",
   "version": "3.7.3"
  }
 },
 "nbformat": 4,
 "nbformat_minor": 4
}
